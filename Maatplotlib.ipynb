{
 "cells": [
  {
   "cell_type": "code",
   "execution_count": 3,
   "metadata": {},
   "outputs": [],
   "source": [
    "import csv\n",
    "with open(\"train_titanic.csv\",\"r\") as titanic:\n",
    "    csv_dict_reader = csv.DictReader(titanic)\n",
    "    male_survived ={\"yes\":0,\"no\":0}\n",
    "    female_survived ={\"yes\":0,\"no\":0}\n",
    "    for row in csv_dict_reader :\n",
    "        if row[\"Sex\"] == \"male\" and row[\"Survived\"]=='1':\n",
    "            male_survived[\"yes\"] += 1\n",
    "        elif row[\"Sex\"]==\"male\" and row[\"Survived\"]=='0':\n",
    "             male_survived[\"no\"] += 1\n",
    "        elif row[\"Sex\"].lower()==\"female\" and row[\"Survived\"]=='1':\n",
    "            female_survived[\"yes\"] += 1\n",
    "        elif row[\"Sex\"]==\"female\" and row[\"Survived\"]=='0':\n",
    "             female_survived[\"no\"] += 1        \n",
    "                \n"
   ]
  },
  {
   "cell_type": "code",
   "execution_count": null,
   "metadata": {},
   "outputs": [],
   "source": []
  },
  {
   "cell_type": "code",
   "execution_count": 4,
   "metadata": {},
   "outputs": [
    {
     "data": {
      "text/plain": [
       "<BarContainer object of 2 artists>"
      ]
     },
     "execution_count": 4,
     "metadata": {},
     "output_type": "execute_result"
    },
    {
     "data": {
      "image/png": "[encoded data removed]",
      "text/plain": [
       "<Figure size 432x288 with 1 Axes>"
      ]
     },
     "metadata": {
      "needs_background": "light"
     },
     "output_type": "display_data"
    }
   ],
   "source": [
    "import matplotlib.pyplot as plt\n",
    "%matplotlib inline\n",
    "plt.bar(male_survived.keys(),male_survived.values())\n"
   ]
  },
  {
   "cell_type": "code",
   "execution_count": 5,
   "metadata": {},
   "outputs": [
    {
     "data": {
      "text/plain": [
       "<BarContainer object of 2 artists>"
      ]
     },
     "execution_count": 5,
     "metadata": {},
     "output_type": "execute_result"
    },
    {
     "data": {
      "image/png": "[encoded data removed]",
      "text/plain": [
       "<Figure size 432x288 with 1 Axes>"
      ]
     },
     "metadata": {
      "needs_background": "light"
     },
     "output_type": "display_data"
    }
   ],
   "source": [
    "plt.bar(female_survived.keys(),female_survived.values())"
   ]
  },
  {
   "cell_type": "code",
   "execution_count": null,
   "metadata": {},
   "outputs": [],
   "source": []
  }
 ],
 "metadata": {
  "kernelspec": {
   "display_name": "Python 3",
   "language": "python",
   "name": "python3"
  },
  "language_info": {
   "codemirror_mode": {
    "name": "ipython",
    "version": 3
   },
   "file_extension": ".py",
   "mimetype": "text/x-python",
   "name": "python",
   "nbconvert_exporter": "python",
   "pygments_lexer": "ipython3",
   "version": "3.7.4"
  }
 },
 "nbformat": 4,
 "nbformat_minor": 2
}
